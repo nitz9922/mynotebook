{
 "cells": [
  {
   "cell_type": "code",
   "execution_count": null,
   "id": "8378e721-a12b-4118-a0fa-11f642ec0b1e",
   "metadata": {},
   "outputs": [],
   "source": [
    "# Tools for Data Science\n"
   ]
  },
  {
   "cell_type": "markdown",
   "id": "ebee7108-7344-4a49-96d5-1d89fedc60fc",
   "metadata": {},
   "source": [
    "This notebook provides an overview of various tools commonly used in data science."
   ]
  },
  {
   "cell_type": "markdown",
   "id": "f9a29b7d-fd7c-4e01-bae6-d9763b7918bf",
   "metadata": {},
   "source": [
    "Below is an ordered list of popular programming languages used in Data Science:\n",
    "\n",
    "1. Python  \n",
    "2. R  \n",
    "3. SQL  \n",
    "4. Julia  \n",
    "5. Scala"
   ]
  },
  {
   "cell_type": "markdown",
   "id": "857c8b3f-ffa9-439c-b584-d6c881a39a78",
   "metadata": {},
   "source": [
    "Below is an ordered list of popular libraries used in Data Science:\n",
    "\n",
    "1. Pandas  \n",
    "2. NumPy  \n",
    "3. Matplotlib  \n",
    "4. Scikit-learn  \n",
    "5. TensorFlow  \n",
    "6. Seaborn"
   ]
  },
  {
   "cell_type": "markdown",
   "id": "18165196-e98f-4f76-9d06-4eb842c8107b",
   "metadata": {},
   "source": [
    "Below is a table listing some commonly used Data Science tools:\n",
    "\n",
    "| Tool Name        | Category            | Description                         |\n",
    "|------------------|---------------------|-------------------------------------|\n",
    "| Jupyter Notebook | IDE / Notebook      | Interactive environment for coding  |\n",
    "| RStudio          | IDE                 | IDE for R programming               |\n",
    "| Apache Spark     | Big Data Framework  | Handles large-scale data processing |\n",
    "| TensorFlow       | ML Framework        | Used for deep learning              |\n",
    "| Tableau          | Visualization Tool  | Used for creating dashboards        |"
   ]
  },
  {
   "cell_type": "markdown",
   "id": "e4c7da56-fb67-429a-9491-4872e5a77baa",
   "metadata": {},
   "source": [
    "Below are some examples of simple arithmetic expressions using Python."
   ]
  },
  {
   "cell_type": "code",
   "execution_count": 1,
   "id": "bcab032f-a1b9-4dbf-93c2-3d99757c5da0",
   "metadata": {},
   "outputs": [
    {
     "name": "stdout",
     "output_type": "stream",
     "text": [
      "The result of (5 * 4) + 2 is: 22\n"
     ]
    }
   ],
   "source": [
    "# Multiply and add integers\n",
    "result = (5 * 4) + 2\n",
    "print(\"The result of (5 * 4) + 2 is:\", result)"
   ]
  },
  {
   "cell_type": "code",
   "execution_count": 2,
   "id": "f0331f5e-6f8d-49ed-953f-3ef6787d417d",
   "metadata": {},
   "outputs": [
    {
     "name": "stdout",
     "output_type": "stream",
     "text": [
      "150 minutes is equal to 2.5 hours\n"
     ]
    }
   ],
   "source": [
    "# Convert minutes to hours\n",
    "minutes = 150\n",
    "hours = minutes / 60\n",
    "print(\"150 minutes is equal to\", hours, \"hours\")"
   ]
  },
  {
   "cell_type": "markdown",
   "id": "5835b113-ad98-4c08-a47f-892279bfc3a0",
   "metadata": {},
   "source": [
    "### Objectives of this Notebook\n",
    "\n",
    "- Understand basic data science concepts\n",
    "- Learn to use JupyterLite Notebook\n",
    "- Practice Markdown and Python coding\n",
    "- Share notebooks via GitHub"
   ]
  },
  {
   "cell_type": "markdown",
   "id": "e42ff52f-da01-4724-950b-20e5a7e95761",
   "metadata": {},
   "source": [
    "**Author:** Nitika Sharma\n"
   ]
  },
  {
   "cell_type": "code",
   "execution_count": null,
   "id": "97efd640-4c4c-42b0-9434-d32f884f3152",
   "metadata": {},
   "outputs": [],
   "source": []
  }
 ],
 "metadata": {
  "kernelspec": {
   "display_name": "Python 3 (ipykernel)",
   "language": "python",
   "name": "python3"
  },
  "language_info": {
   "codemirror_mode": {
    "name": "ipython",
    "version": 3
   },
   "file_extension": ".py",
   "mimetype": "text/x-python",
   "name": "python",
   "nbconvert_exporter": "python",
   "pygments_lexer": "ipython3",
   "version": "3.10.12"
  }
 },
 "nbformat": 4,
 "nbformat_minor": 5
}
